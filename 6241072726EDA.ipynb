{
 "cells": [
  {
   "cell_type": "markdown",
   "metadata": {},
   "source": [
    "#### ชื่อ-นามสกุล : ณิชาภัทร บุญพาวัฒนา\n",
    "#### รหัสนิสิต : 6241072726\n",
    "git hub"
   ]
  },
  {
   "cell_type": "markdown",
   "metadata": {},
   "source": [
    "#### แหล่งที่มา\n",
    "- กด\n",
    "- กดเ้ื่"
   ]
  },
  {
   "cell_type": "markdown",
   "metadata": {},
   "source": [
    "จริงหรือไม่ที่ยอดโควิดของไทยเยอะกว่าหลายประเทศ?\n",
    "วัคซีนสามารถป้องกันการติดเชื้อได้หรือไม่"
   ]
  },
  {
   "cell_type": "code",
   "execution_count": 1,
   "metadata": {},
   "outputs": [
    {
     "name": "stdout",
     "output_type": "stream",
     "text": [
      "ip address: 192.168.43.124 (LAPTOP-RKO3FJ36)\n",
      "last run: 2022-02-21 22:21:14.526045\n"
     ]
    }
   ],
   "source": [
    "from datetime import datetime\n",
    "import socket\n",
    "\n",
    "print(f'ip address: {socket.gethostbyname(socket.gethostname())} ({socket.gethostname()})')\n",
    "print(f'last run: {datetime.now()}')"
   ]
  },
  {
   "cell_type": "code",
   "execution_count": 2,
   "metadata": {},
   "outputs": [],
   "source": [
    "import pandas as pd\n",
    "import seaborn as sns\n",
    "import numpy as np"
   ]
  },
  {
   "cell_type": "code",
   "execution_count": 3,
   "metadata": {},
   "outputs": [
    {
     "name": "stdout",
     "output_type": "stream",
     "text": [
      "pandas version = 1.3.5\n",
      "seaborn version = 0.11.2\n",
      "numpy version = 1.21.2\n"
     ]
    },
    {
     "data": {
      "text/plain": [
       "Timestamp('2022-02-21 22:21:16.806252')"
      ]
     },
     "execution_count": 3,
     "metadata": {},
     "output_type": "execute_result"
    }
   ],
   "source": [
    "print(f'pandas version = {pd.__version__}')\n",
    "print(f'seaborn version = {sns.__version__}')\n",
    "print(f'numpy version = {np.__version__}')\n",
    "pd.Timestamp.now()"
   ]
  },
  {
   "cell_type": "code",
   "execution_count": 4,
   "metadata": {},
   "outputs": [],
   "source": [
    "# cleaned data\n",
    "# df = pd.read_csv('vaccine_covid_1.csv', parse_dates=['date'])"
   ]
  },
  {
   "cell_type": "code",
   "execution_count": 5,
   "metadata": {},
   "outputs": [],
   "source": [
    "# uncleaned data\n",
    "df = pd.read_csv('vaccine_covid_1.csv', parse_dates=['date'])"
   ]
  },
  {
   "cell_type": "markdown",
   "metadata": {},
   "source": [
    "# Preparing and cleansing data"
   ]
  },
  {
   "cell_type": "markdown",
   "metadata": {},
   "source": [
    "##### Remove unwanted columns"
   ]
  },
  {
   "cell_type": "code",
   "execution_count": 6,
   "metadata": {},
   "outputs": [
    {
     "data": {
      "text/plain": [
       "Index(['iso_code', 'continent', 'location', 'date', 'new_cases', 'new_deaths',\n",
       "       'icu_patients', 'hosp_patients', 'people_vaccinated', 'population'],\n",
       "      dtype='object')"
      ]
     },
     "execution_count": 6,
     "metadata": {},
     "output_type": "execute_result"
    }
   ],
   "source": [
    "to_drop = []\n",
    "for c in df.columns:\n",
    "    if 'smoothed' in c:\n",
    "        to_drop.append(c)    \n",
    "    elif 'per'in c:\n",
    "        to_drop.append(c)\n",
    "    elif 'excess'in c:\n",
    "        to_drop.append(c)\n",
    "    elif 'index'in c:\n",
    "        to_drop.append(c)\n",
    "    elif 'unit'in c:\n",
    "        to_drop.append(c)\n",
    "    elif 'weekly'in c:\n",
    "        to_drop.append(c)         \n",
    "    elif 'rate'in c:\n",
    "        to_drop.append(c)         \n",
    "    elif 'total'in c:\n",
    "        to_drop.append(c)\n",
    "    elif 'test'in c:\n",
    "        to_drop.append(c)\n",
    "    elif 'vaccinat'in c:\n",
    "        to_drop.append(c)\n",
    "\n",
    "to_drop.remove('people_vaccinated')                  \n",
    "df = df.drop(to_drop, axis=1)\n",
    "\n",
    "to_drop1 = []\n",
    "for i in range(10,20):\n",
    "    to_drop1.append(df.columns[i])\n",
    "df = df.drop(to_drop1, axis=1)\n",
    "df.columns"
   ]
  },
  {
   "cell_type": "markdown",
   "metadata": {},
   "source": [
    "##### Rename columns"
   ]
  },
  {
   "cell_type": "code",
   "execution_count": 7,
   "metadata": {},
   "outputs": [
    {
     "data": {
      "text/html": [
       "<div>\n",
       "<style scoped>\n",
       "    .dataframe tbody tr th:only-of-type {\n",
       "        vertical-align: middle;\n",
       "    }\n",
       "\n",
       "    .dataframe tbody tr th {\n",
       "        vertical-align: top;\n",
       "    }\n",
       "\n",
       "    .dataframe thead th {\n",
       "        text-align: right;\n",
       "    }\n",
       "</style>\n",
       "<table border=\"1\" class=\"dataframe\">\n",
       "  <thead>\n",
       "    <tr style=\"text-align: right;\">\n",
       "      <th></th>\n",
       "      <th>iso_code</th>\n",
       "      <th>continent</th>\n",
       "      <th>country</th>\n",
       "      <th>date</th>\n",
       "      <th>cases_per_day</th>\n",
       "      <th>deaths_per_day</th>\n",
       "      <th>icu_patients</th>\n",
       "      <th>hosp_patients</th>\n",
       "      <th>people_vaccinated</th>\n",
       "      <th>population</th>\n",
       "    </tr>\n",
       "  </thead>\n",
       "  <tbody>\n",
       "    <tr>\n",
       "      <th>0</th>\n",
       "      <td>AFG</td>\n",
       "      <td>Asia</td>\n",
       "      <td>Afghanistan</td>\n",
       "      <td>2020-02-24</td>\n",
       "      <td>5.0</td>\n",
       "      <td>NaN</td>\n",
       "      <td>NaN</td>\n",
       "      <td>NaN</td>\n",
       "      <td>NaN</td>\n",
       "      <td>39835428.0</td>\n",
       "    </tr>\n",
       "    <tr>\n",
       "      <th>1</th>\n",
       "      <td>AFG</td>\n",
       "      <td>Asia</td>\n",
       "      <td>Afghanistan</td>\n",
       "      <td>2020-02-25</td>\n",
       "      <td>0.0</td>\n",
       "      <td>NaN</td>\n",
       "      <td>NaN</td>\n",
       "      <td>NaN</td>\n",
       "      <td>NaN</td>\n",
       "      <td>39835428.0</td>\n",
       "    </tr>\n",
       "    <tr>\n",
       "      <th>2</th>\n",
       "      <td>AFG</td>\n",
       "      <td>Asia</td>\n",
       "      <td>Afghanistan</td>\n",
       "      <td>2020-02-26</td>\n",
       "      <td>0.0</td>\n",
       "      <td>NaN</td>\n",
       "      <td>NaN</td>\n",
       "      <td>NaN</td>\n",
       "      <td>NaN</td>\n",
       "      <td>39835428.0</td>\n",
       "    </tr>\n",
       "    <tr>\n",
       "      <th>3</th>\n",
       "      <td>AFG</td>\n",
       "      <td>Asia</td>\n",
       "      <td>Afghanistan</td>\n",
       "      <td>2020-02-27</td>\n",
       "      <td>0.0</td>\n",
       "      <td>NaN</td>\n",
       "      <td>NaN</td>\n",
       "      <td>NaN</td>\n",
       "      <td>NaN</td>\n",
       "      <td>39835428.0</td>\n",
       "    </tr>\n",
       "    <tr>\n",
       "      <th>4</th>\n",
       "      <td>AFG</td>\n",
       "      <td>Asia</td>\n",
       "      <td>Afghanistan</td>\n",
       "      <td>2020-02-28</td>\n",
       "      <td>0.0</td>\n",
       "      <td>NaN</td>\n",
       "      <td>NaN</td>\n",
       "      <td>NaN</td>\n",
       "      <td>NaN</td>\n",
       "      <td>39835428.0</td>\n",
       "    </tr>\n",
       "    <tr>\n",
       "      <th>...</th>\n",
       "      <td>...</td>\n",
       "      <td>...</td>\n",
       "      <td>...</td>\n",
       "      <td>...</td>\n",
       "      <td>...</td>\n",
       "      <td>...</td>\n",
       "      <td>...</td>\n",
       "      <td>...</td>\n",
       "      <td>...</td>\n",
       "      <td>...</td>\n",
       "    </tr>\n",
       "    <tr>\n",
       "      <th>162602</th>\n",
       "      <td>ZWE</td>\n",
       "      <td>Africa</td>\n",
       "      <td>Zimbabwe</td>\n",
       "      <td>2022-02-13</td>\n",
       "      <td>82.0</td>\n",
       "      <td>0.0</td>\n",
       "      <td>NaN</td>\n",
       "      <td>NaN</td>\n",
       "      <td>4318075.0</td>\n",
       "      <td>15092171.0</td>\n",
       "    </tr>\n",
       "    <tr>\n",
       "      <th>162603</th>\n",
       "      <td>ZWE</td>\n",
       "      <td>Africa</td>\n",
       "      <td>Zimbabwe</td>\n",
       "      <td>2022-02-14</td>\n",
       "      <td>222.0</td>\n",
       "      <td>0.0</td>\n",
       "      <td>NaN</td>\n",
       "      <td>NaN</td>\n",
       "      <td>4319919.0</td>\n",
       "      <td>15092171.0</td>\n",
       "    </tr>\n",
       "    <tr>\n",
       "      <th>162604</th>\n",
       "      <td>ZWE</td>\n",
       "      <td>Africa</td>\n",
       "      <td>Zimbabwe</td>\n",
       "      <td>2022-02-15</td>\n",
       "      <td>0.0</td>\n",
       "      <td>0.0</td>\n",
       "      <td>NaN</td>\n",
       "      <td>NaN</td>\n",
       "      <td>4322787.0</td>\n",
       "      <td>15092171.0</td>\n",
       "    </tr>\n",
       "    <tr>\n",
       "      <th>162605</th>\n",
       "      <td>ZWE</td>\n",
       "      <td>Africa</td>\n",
       "      <td>Zimbabwe</td>\n",
       "      <td>2022-02-16</td>\n",
       "      <td>610.0</td>\n",
       "      <td>5.0</td>\n",
       "      <td>NaN</td>\n",
       "      <td>NaN</td>\n",
       "      <td>4327084.0</td>\n",
       "      <td>15092171.0</td>\n",
       "    </tr>\n",
       "    <tr>\n",
       "      <th>162606</th>\n",
       "      <td>ZWE</td>\n",
       "      <td>Africa</td>\n",
       "      <td>Zimbabwe</td>\n",
       "      <td>2022-02-17</td>\n",
       "      <td>385.0</td>\n",
       "      <td>2.0</td>\n",
       "      <td>NaN</td>\n",
       "      <td>NaN</td>\n",
       "      <td>4331082.0</td>\n",
       "      <td>15092171.0</td>\n",
       "    </tr>\n",
       "  </tbody>\n",
       "</table>\n",
       "<p>162607 rows × 10 columns</p>\n",
       "</div>"
      ],
      "text/plain": [
       "       iso_code continent      country       date  cases_per_day  \\\n",
       "0           AFG      Asia  Afghanistan 2020-02-24            5.0   \n",
       "1           AFG      Asia  Afghanistan 2020-02-25            0.0   \n",
       "2           AFG      Asia  Afghanistan 2020-02-26            0.0   \n",
       "3           AFG      Asia  Afghanistan 2020-02-27            0.0   \n",
       "4           AFG      Asia  Afghanistan 2020-02-28            0.0   \n",
       "...         ...       ...          ...        ...            ...   \n",
       "162602      ZWE    Africa     Zimbabwe 2022-02-13           82.0   \n",
       "162603      ZWE    Africa     Zimbabwe 2022-02-14          222.0   \n",
       "162604      ZWE    Africa     Zimbabwe 2022-02-15            0.0   \n",
       "162605      ZWE    Africa     Zimbabwe 2022-02-16          610.0   \n",
       "162606      ZWE    Africa     Zimbabwe 2022-02-17          385.0   \n",
       "\n",
       "        deaths_per_day  icu_patients  hosp_patients  people_vaccinated  \\\n",
       "0                  NaN           NaN            NaN                NaN   \n",
       "1                  NaN           NaN            NaN                NaN   \n",
       "2                  NaN           NaN            NaN                NaN   \n",
       "3                  NaN           NaN            NaN                NaN   \n",
       "4                  NaN           NaN            NaN                NaN   \n",
       "...                ...           ...            ...                ...   \n",
       "162602             0.0           NaN            NaN          4318075.0   \n",
       "162603             0.0           NaN            NaN          4319919.0   \n",
       "162604             0.0           NaN            NaN          4322787.0   \n",
       "162605             5.0           NaN            NaN          4327084.0   \n",
       "162606             2.0           NaN            NaN          4331082.0   \n",
       "\n",
       "        population  \n",
       "0       39835428.0  \n",
       "1       39835428.0  \n",
       "2       39835428.0  \n",
       "3       39835428.0  \n",
       "4       39835428.0  \n",
       "...            ...  \n",
       "162602  15092171.0  \n",
       "162603  15092171.0  \n",
       "162604  15092171.0  \n",
       "162605  15092171.0  \n",
       "162606  15092171.0  \n",
       "\n",
       "[162607 rows x 10 columns]"
      ]
     },
     "execution_count": 7,
     "metadata": {},
     "output_type": "execute_result"
    }
   ],
   "source": [
    "df.rename(columns={'location':'country','new_cases':'cases_per_day', 'new_deaths' : 'deaths_per_day'}, inplace=True)\n",
    "df"
   ]
  },
  {
   "cell_type": "code",
   "execution_count": 9,
   "metadata": {},
   "outputs": [
    {
     "name": "stdout",
     "output_type": "stream",
     "text": [
      "<class 'pandas.core.frame.DataFrame'>\n",
      "RangeIndex: 162607 entries, 0 to 162606\n",
      "Data columns (total 10 columns):\n",
      " #   Column             Non-Null Count   Dtype         \n",
      "---  ------             --------------   -----         \n",
      " 0   iso_code           162607 non-null  object        \n",
      " 1   continent          152859 non-null  object        \n",
      " 2   country            162607 non-null  object        \n",
      " 3   date               162607 non-null  datetime64[ns]\n",
      " 4   cases_per_day      159616 non-null  float64       \n",
      " 5   deaths_per_day     142122 non-null  float64       \n",
      " 6   icu_patients       22847 non-null   float64       \n",
      " 7   hosp_patients      23588 non-null   float64       \n",
      " 8   people_vaccinated  41411 non-null   float64       \n",
      " 9   population         161548 non-null  float64       \n",
      "dtypes: datetime64[ns](1), float64(6), object(3)\n",
      "memory usage: 12.4+ MB\n"
     ]
    }
   ],
   "source": [
    "df.info()"
   ]
  },
  {
   "cell_type": "markdown",
   "metadata": {},
   "source": [
    "## Describe column names\n",
    "- iso_code :\n",
    "- continent :\n",
    "- country :\n",
    "- date :\n",
    "- cases_per_day :\n",
    "- deaths_per_day :\n",
    "- icu_patients :\n",
    "- hosp_patients : จ\n",
    "- people_vaccinated : จำนวนประชากรที่ฉีดวัคซีนตั้งแต่ 1 เข็มขึ้นไปของแต่ละประเทศ\n",
    "- population : จำนวนประชากรของแต่ละประเทศในแต่ละปี"
   ]
  },
  {
   "cell_type": "markdown",
   "metadata": {},
   "source": [
    "# EDA"
   ]
  },
  {
   "cell_type": "markdown",
   "metadata": {},
   "source": [
    "1."
   ]
  },
  {
   "cell_type": "code",
   "execution_count": null,
   "metadata": {},
   "outputs": [],
   "source": []
  },
  {
   "cell_type": "code",
   "execution_count": null,
   "metadata": {},
   "outputs": [],
   "source": []
  },
  {
   "cell_type": "markdown",
   "metadata": {},
   "source": [
    "2."
   ]
  },
  {
   "cell_type": "code",
   "execution_count": null,
   "metadata": {},
   "outputs": [],
   "source": []
  }
 ],
 "metadata": {
  "interpreter": {
   "hash": "1e915f0a29dc84041eaeb02b7b1a21c440e37a87b61d44d5e84a515737dc82bc"
  },
  "kernelspec": {
   "display_name": "Python 3.8.12 ('base')",
   "language": "python",
   "name": "python3"
  },
  "language_info": {
   "codemirror_mode": {
    "name": "ipython",
    "version": 3
   },
   "file_extension": ".py",
   "mimetype": "text/x-python",
   "name": "python",
   "nbconvert_exporter": "python",
   "pygments_lexer": "ipython3",
   "version": "3.8.12"
  },
  "orig_nbformat": 4
 },
 "nbformat": 4,
 "nbformat_minor": 2
}
